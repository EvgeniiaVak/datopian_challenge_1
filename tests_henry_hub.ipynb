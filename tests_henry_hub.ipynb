{
 "cells": [
  {
   "cell_type": "code",
   "execution_count": 1,
   "metadata": {},
   "outputs": [],
   "source": [
    "import numpy as np\n",
    "from bs4 import BeautifulSoup as BS\n",
    "import requests\n",
    "import pandas as pd\n",
    "import sys"
   ]
  },
  {
   "cell_type": "code",
   "execution_count": 23,
   "metadata": {},
   "outputs": [
    {
     "data": {
      "text/plain": [
       "300"
      ]
     },
     "execution_count": 23,
     "metadata": {},
     "output_type": "execute_result"
    }
   ],
   "source": [
    "url = 'https://www.eia.gov/dnav/ng/hist/rngwhhdW.htm'\n",
    "html = requests.get(url).text\n",
    "soup = BS(html)\n",
    "rows = soup.select('table[SUMMARY] tr')\n",
    "len(rows)"
   ]
  },
  {
   "cell_type": "code",
   "execution_count": 78,
   "metadata": {},
   "outputs": [
    {
     "name": "stdout",
     "output_type": "stream",
     "text": [
      "<class 'pandas.core.frame.DataFrame'>\n",
      "RangeIndex: 298 entries, 0 to 297\n",
      "Data columns (total 1 columns):\n",
      "tag    298 non-null object\n",
      "dtypes: object(1)\n",
      "memory usage: 2.4+ KB\n"
     ]
    },
    {
     "data": {
      "text/html": [
       "<div>\n",
       "<style scoped>\n",
       "    .dataframe tbody tr th:only-of-type {\n",
       "        vertical-align: middle;\n",
       "    }\n",
       "\n",
       "    .dataframe tbody tr th {\n",
       "        vertical-align: top;\n",
       "    }\n",
       "\n",
       "    .dataframe thead th {\n",
       "        text-align: right;\n",
       "    }\n",
       "</style>\n",
       "<table border=\"1\" class=\"dataframe\">\n",
       "  <thead>\n",
       "    <tr style=\"text-align: right;\">\n",
       "      <th></th>\n",
       "      <th>tag</th>\n",
       "    </tr>\n",
       "  </thead>\n",
       "  <tbody>\n",
       "    <tr>\n",
       "      <th>0</th>\n",
       "      <td>&lt;tr&gt; &lt;td class=\"B6\"&gt;  1997-Jan&lt;/td&gt; &lt;td class=...</td>\n",
       "    </tr>\n",
       "    <tr>\n",
       "      <th>1</th>\n",
       "      <td>&lt;tr&gt; &lt;td class=\"B6\"&gt;  1997-Feb&lt;/td&gt; &lt;td class=...</td>\n",
       "    </tr>\n",
       "    <tr>\n",
       "      <th>2</th>\n",
       "      <td>&lt;tr&gt; &lt;td class=\"B6\"&gt;  1997-Mar&lt;/td&gt; &lt;td class=...</td>\n",
       "    </tr>\n",
       "    <tr>\n",
       "      <th>3</th>\n",
       "      <td>&lt;tr&gt; &lt;td class=\"B6\"&gt;  1997-Apr&lt;/td&gt; &lt;td class=...</td>\n",
       "    </tr>\n",
       "    <tr>\n",
       "      <th>4</th>\n",
       "      <td>&lt;tr&gt; &lt;td class=\"B6\"&gt;  1997-May&lt;/td&gt; &lt;td class=...</td>\n",
       "    </tr>\n",
       "  </tbody>\n",
       "</table>\n",
       "</div>"
      ],
      "text/plain": [
       "                                                 tag\n",
       "0  <tr> <td class=\"B6\">  1997-Jan</td> <td class=...\n",
       "1  <tr> <td class=\"B6\">  1997-Feb</td> <td class=...\n",
       "2  <tr> <td class=\"B6\">  1997-Mar</td> <td class=...\n",
       "3  <tr> <td class=\"B6\">  1997-Apr</td> <td class=...\n",
       "4  <tr> <td class=\"B6\">  1997-May</td> <td class=..."
      ]
     },
     "execution_count": 78,
     "metadata": {},
     "output_type": "execute_result"
    }
   ],
   "source": [
    "df = pd.DataFrame(rows[2:], columns=['tag'])\n",
    "df.info()\n",
    "df.head()"
   ]
  },
  {
   "cell_type": "code",
   "execution_count": 80,
   "metadata": {},
   "outputs": [
    {
     "name": "stdout",
     "output_type": "stream",
     "text": [
      "<class 'pandas.core.frame.DataFrame'>\n",
      "Int64Index: 272 entries, 0 to 293\n",
      "Data columns (total 2 columns):\n",
      "tag           272 non-null object\n",
      "year_month    272 non-null object\n",
      "dtypes: object(2)\n",
      "memory usage: 6.4+ KB\n"
     ]
    },
    {
     "data": {
      "text/html": [
       "<div>\n",
       "<style scoped>\n",
       "    .dataframe tbody tr th:only-of-type {\n",
       "        vertical-align: middle;\n",
       "    }\n",
       "\n",
       "    .dataframe tbody tr th {\n",
       "        vertical-align: top;\n",
       "    }\n",
       "\n",
       "    .dataframe thead th {\n",
       "        text-align: right;\n",
       "    }\n",
       "</style>\n",
       "<table border=\"1\" class=\"dataframe\">\n",
       "  <thead>\n",
       "    <tr style=\"text-align: right;\">\n",
       "      <th></th>\n",
       "      <th>tag</th>\n",
       "      <th>year_month</th>\n",
       "    </tr>\n",
       "  </thead>\n",
       "  <tbody>\n",
       "    <tr>\n",
       "      <th>0</th>\n",
       "      <td>&lt;tr&gt; &lt;td class=\"B6\"&gt;  1997-Jan&lt;/td&gt; &lt;td class=...</td>\n",
       "      <td>&lt;td class=\"B6\"&gt;  1997-Jan&lt;/td&gt;</td>\n",
       "    </tr>\n",
       "    <tr>\n",
       "      <th>1</th>\n",
       "      <td>&lt;tr&gt; &lt;td class=\"B6\"&gt;  1997-Feb&lt;/td&gt; &lt;td class=...</td>\n",
       "      <td>&lt;td class=\"B6\"&gt;  1997-Feb&lt;/td&gt;</td>\n",
       "    </tr>\n",
       "    <tr>\n",
       "      <th>2</th>\n",
       "      <td>&lt;tr&gt; &lt;td class=\"B6\"&gt;  1997-Mar&lt;/td&gt; &lt;td class=...</td>\n",
       "      <td>&lt;td class=\"B6\"&gt;  1997-Mar&lt;/td&gt;</td>\n",
       "    </tr>\n",
       "    <tr>\n",
       "      <th>3</th>\n",
       "      <td>&lt;tr&gt; &lt;td class=\"B6\"&gt;  1997-Apr&lt;/td&gt; &lt;td class=...</td>\n",
       "      <td>&lt;td class=\"B6\"&gt;  1997-Apr&lt;/td&gt;</td>\n",
       "    </tr>\n",
       "    <tr>\n",
       "      <th>4</th>\n",
       "      <td>&lt;tr&gt; &lt;td class=\"B6\"&gt;  1997-May&lt;/td&gt; &lt;td class=...</td>\n",
       "      <td>&lt;td class=\"B6\"&gt;  1997-May&lt;/td&gt;</td>\n",
       "    </tr>\n",
       "  </tbody>\n",
       "</table>\n",
       "</div>"
      ],
      "text/plain": [
       "                                                 tag  \\\n",
       "0  <tr> <td class=\"B6\">  1997-Jan</td> <td class=...   \n",
       "1  <tr> <td class=\"B6\">  1997-Feb</td> <td class=...   \n",
       "2  <tr> <td class=\"B6\">  1997-Mar</td> <td class=...   \n",
       "3  <tr> <td class=\"B6\">  1997-Apr</td> <td class=...   \n",
       "4  <tr> <td class=\"B6\">  1997-May</td> <td class=...   \n",
       "\n",
       "                       year_month  \n",
       "0  <td class=\"B6\">  1997-Jan</td>  \n",
       "1  <td class=\"B6\">  1997-Feb</td>  \n",
       "2  <td class=\"B6\">  1997-Mar</td>  \n",
       "3  <td class=\"B6\">  1997-Apr</td>  \n",
       "4  <td class=\"B6\">  1997-May</td>  "
      ]
     },
     "execution_count": 80,
     "metadata": {},
     "output_type": "execute_result"
    }
   ],
   "source": [
    "df['year_month'] = df['tag'].apply(lambda x: x.select_one('.B6'))\n",
    "df.dropna(inplace=True)\n",
    "df.info()\n",
    "df.head()"
   ]
  },
  {
   "cell_type": "code",
   "execution_count": 104,
   "metadata": {},
   "outputs": [
    {
     "name": "stdout",
     "output_type": "stream",
     "text": [
      "<class 'pandas.core.frame.DataFrame'>\n",
      "Index: 1180 entries, 1997 01/10 to 2019 08/23\n",
      "Data columns (total 1 columns):\n",
      "0    1180 non-null object\n",
      "dtypes: object(1)\n",
      "memory usage: 18.4+ KB\n"
     ]
    },
    {
     "data": {
      "text/html": [
       "<div>\n",
       "<style scoped>\n",
       "    .dataframe tbody tr th:only-of-type {\n",
       "        vertical-align: middle;\n",
       "    }\n",
       "\n",
       "    .dataframe tbody tr th {\n",
       "        vertical-align: top;\n",
       "    }\n",
       "\n",
       "    .dataframe thead th {\n",
       "        text-align: right;\n",
       "    }\n",
       "</style>\n",
       "<table border=\"1\" class=\"dataframe\">\n",
       "  <thead>\n",
       "    <tr style=\"text-align: right;\">\n",
       "      <th></th>\n",
       "      <th>0</th>\n",
       "    </tr>\n",
       "  </thead>\n",
       "  <tbody>\n",
       "    <tr>\n",
       "      <th>1997 01/10</th>\n",
       "      <td>3.79</td>\n",
       "    </tr>\n",
       "    <tr>\n",
       "      <th>1997 01/17</th>\n",
       "      <td>4.19</td>\n",
       "    </tr>\n",
       "    <tr>\n",
       "      <th>1997 01/24</th>\n",
       "      <td>2.98</td>\n",
       "    </tr>\n",
       "    <tr>\n",
       "      <th>1997 01/31</th>\n",
       "      <td>2.91</td>\n",
       "    </tr>\n",
       "    <tr>\n",
       "      <th>1997 02/07</th>\n",
       "      <td>2.53</td>\n",
       "    </tr>\n",
       "  </tbody>\n",
       "</table>\n",
       "</div>"
      ],
      "text/plain": [
       "               0\n",
       "1997 01/10  3.79\n",
       "1997 01/17  4.19\n",
       "1997 01/24  2.98\n",
       "1997 01/31  2.91\n",
       "1997 02/07  2.53"
      ]
     },
     "execution_count": 104,
     "metadata": {},
     "output_type": "execute_result"
    }
   ],
   "source": [
    "data = {}\n",
    "\n",
    "def unpack_data(tag):\n",
    "    strings = (i.strip() for i in tag.strings if i.strip())\n",
    "    year = next(strings).split('-')[0]\n",
    "    while True :\n",
    "        try:\n",
    "            date = next(strings)\n",
    "            data[f'{year} {date}'] = [next(strings)]\n",
    "        except StopIteration:\n",
    "            break\n",
    "\n",
    "df['tag'].apply(lambda x: unpack_data(x))\n",
    "ddf = pd.DataFrame(data).transpose()\n",
    "ddf.info()\n",
    "ddf.head()"
   ]
  },
  {
   "cell_type": "code",
   "execution_count": 105,
   "metadata": {},
   "outputs": [],
   "source": [
    "ddf.index = pd.to_datetime(ddf.index)"
   ]
  },
  {
   "cell_type": "code",
   "execution_count": 106,
   "metadata": {},
   "outputs": [],
   "source": [
    "ddf.to_csv('test.csv', header=False)"
   ]
  }
 ],
 "metadata": {
  "kernelspec": {
   "display_name": "Python 3",
   "language": "python",
   "name": "python3"
  },
  "language_info": {
   "codemirror_mode": {
    "name": "ipython",
    "version": 3
   },
   "file_extension": ".py",
   "mimetype": "text/x-python",
   "name": "python",
   "nbconvert_exporter": "python",
   "pygments_lexer": "ipython3",
   "version": "3.7.4"
  }
 },
 "nbformat": 4,
 "nbformat_minor": 2
}
